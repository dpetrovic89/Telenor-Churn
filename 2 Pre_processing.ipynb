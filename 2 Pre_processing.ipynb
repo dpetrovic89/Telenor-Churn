{
  "nbformat": 4,
  "nbformat_minor": 0,
  "metadata": {
    "colab": {
      "name": "Pre-processing.ipynb",
      "provenance": [],
      "authorship_tag": "ABX9TyPBuwoMvVCCNg9alWidXYku",
      "include_colab_link": true
    },
    "kernelspec": {
      "name": "python3",
      "display_name": "Python 3"
    },
    "language_info": {
      "name": "python"
    }
  },
  "cells": [
    {
      "cell_type": "markdown",
      "metadata": {
        "id": "view-in-github",
        "colab_type": "text"
      },
      "source": [
        "<a href=\"https://colab.research.google.com/github/dpetrovic89/Telenor-Churn/blob/main/2%20Pre_processing.ipynb\" target=\"_parent\"><img src=\"https://colab.research.google.com/assets/colab-badge.svg\" alt=\"Open In Colab\"/></a>"
      ]
    },
    {
      "cell_type": "markdown",
      "metadata": {
        "id": "tpNcK3G4F0Y3"
      },
      "source": [
        "# Import Libraries & Load Data\n"
      ]
    },
    {
      "cell_type": "code",
      "metadata": {
        "id": "cavirW4qFukj"
      },
      "source": [
        "import pandas as pd"
      ],
      "execution_count": null,
      "outputs": []
    },
    {
      "cell_type": "code",
      "metadata": {
        "colab": {
          "base_uri": "https://localhost:8080/",
          "height": 488
        },
        "id": "SNktHCFlF9Hx",
        "outputId": "9a3387ab-2efd-4c3e-82da-0a62af88399d"
      },
      "source": [
        "df_description = pd.read_csv('https://raw.githubusercontent.com/dpetrovic89/data/main/Variable-Explanation-Test-Data-Scientist_2022.csv', header=None, )\n",
        "df_description.head(15)"
      ],
      "execution_count": null,
      "outputs": [
        {
          "output_type": "execute_result",
          "data": {
            "text/html": [
              "<div>\n",
              "<style scoped>\n",
              "    .dataframe tbody tr th:only-of-type {\n",
              "        vertical-align: middle;\n",
              "    }\n",
              "\n",
              "    .dataframe tbody tr th {\n",
              "        vertical-align: top;\n",
              "    }\n",
              "\n",
              "    .dataframe thead th {\n",
              "        text-align: right;\n",
              "    }\n",
              "</style>\n",
              "<table border=\"1\" class=\"dataframe\">\n",
              "  <thead>\n",
              "    <tr style=\"text-align: right;\">\n",
              "      <th></th>\n",
              "      <th>0</th>\n",
              "      <th>1</th>\n",
              "      <th>2</th>\n",
              "    </tr>\n",
              "  </thead>\n",
              "  <tbody>\n",
              "    <tr>\n",
              "      <th>0</th>\n",
              "      <td>SUBSCRIBER_ID</td>\n",
              "      <td>ID of subscriber</td>\n",
              "      <td>NaN</td>\n",
              "    </tr>\n",
              "    <tr>\n",
              "      <th>1</th>\n",
              "      <td>BNUM_OUT</td>\n",
              "      <td>Number of different numbers who subscriber calls</td>\n",
              "      <td>NaN</td>\n",
              "    </tr>\n",
              "    <tr>\n",
              "      <th>2</th>\n",
              "      <td>BNUM_IN</td>\n",
              "      <td>Number of different numbers that make calls to...</td>\n",
              "      <td>NaN</td>\n",
              "    </tr>\n",
              "    <tr>\n",
              "      <th>3</th>\n",
              "      <td>CHURN</td>\n",
              "      <td>Churn event, 1 - churn, 0 non-churn.</td>\n",
              "      <td>NaN</td>\n",
              "    </tr>\n",
              "    <tr>\n",
              "      <th>4</th>\n",
              "      <td>PROD_CNT_MACRO</td>\n",
              "      <td>Number of bundles that customer activated (ave...</td>\n",
              "      <td>NaN</td>\n",
              "    </tr>\n",
              "    <tr>\n",
              "      <th>5</th>\n",
              "      <td>REV_BUN_MAC</td>\n",
              "      <td>Revenue from bundles that customer activated (...</td>\n",
              "      <td>NaN</td>\n",
              "    </tr>\n",
              "    <tr>\n",
              "      <th>6</th>\n",
              "      <td>REV_OUT</td>\n",
              "      <td>Total Revenue (average in last 3 months)</td>\n",
              "      <td>NaN</td>\n",
              "    </tr>\n",
              "    <tr>\n",
              "      <th>7</th>\n",
              "      <td>USAGE_OUT_INT_DUR</td>\n",
              "      <td>Number of outgoing international minutes (aver...</td>\n",
              "      <td>NaN</td>\n",
              "    </tr>\n",
              "    <tr>\n",
              "      <th>8</th>\n",
              "      <td>USAGE_OUT_OFFNET_DUR</td>\n",
              "      <td>Number of outgoing minutes to competitor netwo...</td>\n",
              "      <td>NaN</td>\n",
              "    </tr>\n",
              "    <tr>\n",
              "      <th>9</th>\n",
              "      <td>USAGE_OUT_ONNET_DUR</td>\n",
              "      <td>Number of outgoing minutes in the network (ave...</td>\n",
              "      <td>NaN</td>\n",
              "    </tr>\n",
              "    <tr>\n",
              "      <th>10</th>\n",
              "      <td>LNE_TENURE</td>\n",
              "      <td>User tenure in months</td>\n",
              "      <td>NaN</td>\n",
              "    </tr>\n",
              "    <tr>\n",
              "      <th>11</th>\n",
              "      <td>TOPUP_AMT</td>\n",
              "      <td>Total topup (refill) amount (average in last 3...</td>\n",
              "      <td>NaN</td>\n",
              "    </tr>\n",
              "    <tr>\n",
              "      <th>12</th>\n",
              "      <td>TOPUP_CNT</td>\n",
              "      <td>Number of topups (refill) (average in last 3 m...</td>\n",
              "      <td>NaN</td>\n",
              "    </tr>\n",
              "    <tr>\n",
              "      <th>13</th>\n",
              "      <td>Segment</td>\n",
              "      <td>Customer segment.</td>\n",
              "      <td>NaN</td>\n",
              "    </tr>\n",
              "  </tbody>\n",
              "</table>\n",
              "</div>"
            ],
            "text/plain": [
              "                       0                                                  1   2\n",
              "0          SUBSCRIBER_ID                                   ID of subscriber NaN\n",
              "1               BNUM_OUT   Number of different numbers who subscriber calls NaN\n",
              "2                BNUM_IN  Number of different numbers that make calls to... NaN\n",
              "3                  CHURN               Churn event, 1 - churn, 0 non-churn. NaN\n",
              "4         PROD_CNT_MACRO  Number of bundles that customer activated (ave... NaN\n",
              "5            REV_BUN_MAC  Revenue from bundles that customer activated (... NaN\n",
              "6                REV_OUT           Total Revenue (average in last 3 months) NaN\n",
              "7      USAGE_OUT_INT_DUR  Number of outgoing international minutes (aver... NaN\n",
              "8   USAGE_OUT_OFFNET_DUR  Number of outgoing minutes to competitor netwo... NaN\n",
              "9    USAGE_OUT_ONNET_DUR  Number of outgoing minutes in the network (ave... NaN\n",
              "10            LNE_TENURE                              User tenure in months NaN\n",
              "11             TOPUP_AMT  Total topup (refill) amount (average in last 3... NaN\n",
              "12             TOPUP_CNT  Number of topups (refill) (average in last 3 m... NaN\n",
              "13               Segment                                  Customer segment. NaN"
            ]
          },
          "metadata": {},
          "execution_count": 2
        }
      ]
    },
    {
      "cell_type": "code",
      "metadata": {
        "colab": {
          "base_uri": "https://localhost:8080/",
          "height": 313
        },
        "id": "_It4HIQYF9t5",
        "outputId": "73da6f54-5ca3-42b0-be80-5984d2e3a307"
      },
      "source": [
        "df= pd.read_csv('https://raw.githubusercontent.com/dpetrovic89/data/main/Data-Churn-Test-Data-Scientist_2021.csv' )\n",
        "df.head()"
      ],
      "execution_count": null,
      "outputs": [
        {
          "output_type": "execute_result",
          "data": {
            "text/html": [
              "<div>\n",
              "<style scoped>\n",
              "    .dataframe tbody tr th:only-of-type {\n",
              "        vertical-align: middle;\n",
              "    }\n",
              "\n",
              "    .dataframe tbody tr th {\n",
              "        vertical-align: top;\n",
              "    }\n",
              "\n",
              "    .dataframe thead th {\n",
              "        text-align: right;\n",
              "    }\n",
              "</style>\n",
              "<table border=\"1\" class=\"dataframe\">\n",
              "  <thead>\n",
              "    <tr style=\"text-align: right;\">\n",
              "      <th></th>\n",
              "      <th>SUBSCRIBER_ID</th>\n",
              "      <th>BNUM_OUT</th>\n",
              "      <th>BNUM_IN</th>\n",
              "      <th>CHURN</th>\n",
              "      <th>PROD_CNT_MACRO</th>\n",
              "      <th>REV_BUN_MAC</th>\n",
              "      <th>REV_OUT</th>\n",
              "      <th>USAGE_OUT_INT_DUR</th>\n",
              "      <th>USAGE_OUT_OFFNET_DUR</th>\n",
              "      <th>USAGE_OUT_ONNET_DUR</th>\n",
              "      <th>LNE_TENURE</th>\n",
              "      <th>TOPUP_AMT</th>\n",
              "      <th>TOPUP_CNT</th>\n",
              "      <th>Segment</th>\n",
              "    </tr>\n",
              "  </thead>\n",
              "  <tbody>\n",
              "    <tr>\n",
              "      <th>0</th>\n",
              "      <td>1</td>\n",
              "      <td>2.0</td>\n",
              "      <td>3.0</td>\n",
              "      <td>1</td>\n",
              "      <td>NaN</td>\n",
              "      <td>NaN</td>\n",
              "      <td>0.0</td>\n",
              "      <td>0.0</td>\n",
              "      <td>2.0</td>\n",
              "      <td>1.0</td>\n",
              "      <td>163</td>\n",
              "      <td>NaN</td>\n",
              "      <td>NaN</td>\n",
              "      <td>Segment 1</td>\n",
              "    </tr>\n",
              "    <tr>\n",
              "      <th>1</th>\n",
              "      <td>2</td>\n",
              "      <td>52.0</td>\n",
              "      <td>32.0</td>\n",
              "      <td>0</td>\n",
              "      <td>3.0</td>\n",
              "      <td>2.0</td>\n",
              "      <td>1.0</td>\n",
              "      <td>0.0</td>\n",
              "      <td>0.0</td>\n",
              "      <td>966.0</td>\n",
              "      <td>76</td>\n",
              "      <td>2.0</td>\n",
              "      <td>3.0</td>\n",
              "      <td>Segment 2</td>\n",
              "    </tr>\n",
              "    <tr>\n",
              "      <th>2</th>\n",
              "      <td>3</td>\n",
              "      <td>NaN</td>\n",
              "      <td>NaN</td>\n",
              "      <td>0</td>\n",
              "      <td>NaN</td>\n",
              "      <td>NaN</td>\n",
              "      <td>NaN</td>\n",
              "      <td>NaN</td>\n",
              "      <td>NaN</td>\n",
              "      <td>NaN</td>\n",
              "      <td>118</td>\n",
              "      <td>NaN</td>\n",
              "      <td>0.0</td>\n",
              "      <td>Segment 3</td>\n",
              "    </tr>\n",
              "    <tr>\n",
              "      <th>3</th>\n",
              "      <td>4</td>\n",
              "      <td>4.0</td>\n",
              "      <td>5.0</td>\n",
              "      <td>1</td>\n",
              "      <td>NaN</td>\n",
              "      <td>NaN</td>\n",
              "      <td>3.0</td>\n",
              "      <td>0.0</td>\n",
              "      <td>5.0</td>\n",
              "      <td>5.0</td>\n",
              "      <td>107</td>\n",
              "      <td>4.0</td>\n",
              "      <td>2.0</td>\n",
              "      <td>Segment 1</td>\n",
              "    </tr>\n",
              "    <tr>\n",
              "      <th>4</th>\n",
              "      <td>5</td>\n",
              "      <td>0.0</td>\n",
              "      <td>14.0</td>\n",
              "      <td>0</td>\n",
              "      <td>0.0</td>\n",
              "      <td>NaN</td>\n",
              "      <td>0.0</td>\n",
              "      <td>0.0</td>\n",
              "      <td>0.0</td>\n",
              "      <td>0.0</td>\n",
              "      <td>149</td>\n",
              "      <td>6.0</td>\n",
              "      <td>2.0</td>\n",
              "      <td>Segment 5</td>\n",
              "    </tr>\n",
              "  </tbody>\n",
              "</table>\n",
              "</div>"
            ],
            "text/plain": [
              "   SUBSCRIBER_ID  BNUM_OUT  BNUM_IN  ...  TOPUP_AMT  TOPUP_CNT    Segment\n",
              "0              1       2.0      3.0  ...        NaN        NaN  Segment 1\n",
              "1              2      52.0     32.0  ...        2.0        3.0  Segment 2\n",
              "2              3       NaN      NaN  ...        NaN        0.0  Segment 3\n",
              "3              4       4.0      5.0  ...        4.0        2.0  Segment 1\n",
              "4              5       0.0     14.0  ...        6.0        2.0  Segment 5\n",
              "\n",
              "[5 rows x 14 columns]"
            ]
          },
          "metadata": {},
          "execution_count": 3
        }
      ]
    },
    {
      "cell_type": "markdown",
      "metadata": {
        "id": "yX8_FJOdGJ_E"
      },
      "source": [
        "# Pre-Process Data"
      ]
    },
    {
      "cell_type": "code",
      "metadata": {
        "id": "3DFb1Msm4eNz"
      },
      "source": [
        "# drop segment column\n",
        "\n",
        "df = df.drop('Segment', 1)"
      ],
      "execution_count": null,
      "outputs": []
    },
    {
      "cell_type": "code",
      "metadata": {
        "id": "wsJY080f5xKA"
      },
      "source": [
        "# move CHURN column to the end\n",
        "\n",
        "column_to_move = df.pop(\"CHURN\")\n",
        "\n",
        "# insert column with insert(location, column_name, column_value)\n",
        "\n",
        "df.insert(12, \"CHURN\", column_to_move)\n"
      ],
      "execution_count": null,
      "outputs": []
    },
    {
      "cell_type": "code",
      "metadata": {
        "colab": {
          "base_uri": "https://localhost:8080/",
          "height": 444
        },
        "id": "umee9IJm6kFe",
        "outputId": "b82d7e3e-f130-4faa-82b2-800c25aa75b5"
      },
      "source": [
        "df"
      ],
      "execution_count": null,
      "outputs": [
        {
          "output_type": "execute_result",
          "data": {
            "text/html": [
              "<div>\n",
              "<style scoped>\n",
              "    .dataframe tbody tr th:only-of-type {\n",
              "        vertical-align: middle;\n",
              "    }\n",
              "\n",
              "    .dataframe tbody tr th {\n",
              "        vertical-align: top;\n",
              "    }\n",
              "\n",
              "    .dataframe thead th {\n",
              "        text-align: right;\n",
              "    }\n",
              "</style>\n",
              "<table border=\"1\" class=\"dataframe\">\n",
              "  <thead>\n",
              "    <tr style=\"text-align: right;\">\n",
              "      <th></th>\n",
              "      <th>SUBSCRIBER_ID</th>\n",
              "      <th>BNUM_OUT</th>\n",
              "      <th>BNUM_IN</th>\n",
              "      <th>PROD_CNT_MACRO</th>\n",
              "      <th>REV_BUN_MAC</th>\n",
              "      <th>REV_OUT</th>\n",
              "      <th>USAGE_OUT_INT_DUR</th>\n",
              "      <th>USAGE_OUT_OFFNET_DUR</th>\n",
              "      <th>USAGE_OUT_ONNET_DUR</th>\n",
              "      <th>LNE_TENURE</th>\n",
              "      <th>TOPUP_AMT</th>\n",
              "      <th>TOPUP_CNT</th>\n",
              "      <th>CHURN</th>\n",
              "    </tr>\n",
              "  </thead>\n",
              "  <tbody>\n",
              "    <tr>\n",
              "      <th>0</th>\n",
              "      <td>1</td>\n",
              "      <td>2.0</td>\n",
              "      <td>3.0</td>\n",
              "      <td>NaN</td>\n",
              "      <td>NaN</td>\n",
              "      <td>0.0</td>\n",
              "      <td>0.0</td>\n",
              "      <td>2.0</td>\n",
              "      <td>1.0</td>\n",
              "      <td>163</td>\n",
              "      <td>NaN</td>\n",
              "      <td>NaN</td>\n",
              "      <td>1</td>\n",
              "    </tr>\n",
              "    <tr>\n",
              "      <th>1</th>\n",
              "      <td>2</td>\n",
              "      <td>52.0</td>\n",
              "      <td>32.0</td>\n",
              "      <td>3.0</td>\n",
              "      <td>2.0</td>\n",
              "      <td>1.0</td>\n",
              "      <td>0.0</td>\n",
              "      <td>0.0</td>\n",
              "      <td>966.0</td>\n",
              "      <td>76</td>\n",
              "      <td>2.0</td>\n",
              "      <td>3.0</td>\n",
              "      <td>0</td>\n",
              "    </tr>\n",
              "    <tr>\n",
              "      <th>2</th>\n",
              "      <td>3</td>\n",
              "      <td>NaN</td>\n",
              "      <td>NaN</td>\n",
              "      <td>NaN</td>\n",
              "      <td>NaN</td>\n",
              "      <td>NaN</td>\n",
              "      <td>NaN</td>\n",
              "      <td>NaN</td>\n",
              "      <td>NaN</td>\n",
              "      <td>118</td>\n",
              "      <td>NaN</td>\n",
              "      <td>0.0</td>\n",
              "      <td>0</td>\n",
              "    </tr>\n",
              "    <tr>\n",
              "      <th>3</th>\n",
              "      <td>4</td>\n",
              "      <td>4.0</td>\n",
              "      <td>5.0</td>\n",
              "      <td>NaN</td>\n",
              "      <td>NaN</td>\n",
              "      <td>3.0</td>\n",
              "      <td>0.0</td>\n",
              "      <td>5.0</td>\n",
              "      <td>5.0</td>\n",
              "      <td>107</td>\n",
              "      <td>4.0</td>\n",
              "      <td>2.0</td>\n",
              "      <td>1</td>\n",
              "    </tr>\n",
              "    <tr>\n",
              "      <th>4</th>\n",
              "      <td>5</td>\n",
              "      <td>0.0</td>\n",
              "      <td>14.0</td>\n",
              "      <td>0.0</td>\n",
              "      <td>NaN</td>\n",
              "      <td>0.0</td>\n",
              "      <td>0.0</td>\n",
              "      <td>0.0</td>\n",
              "      <td>0.0</td>\n",
              "      <td>149</td>\n",
              "      <td>6.0</td>\n",
              "      <td>2.0</td>\n",
              "      <td>0</td>\n",
              "    </tr>\n",
              "    <tr>\n",
              "      <th>...</th>\n",
              "      <td>...</td>\n",
              "      <td>...</td>\n",
              "      <td>...</td>\n",
              "      <td>...</td>\n",
              "      <td>...</td>\n",
              "      <td>...</td>\n",
              "      <td>...</td>\n",
              "      <td>...</td>\n",
              "      <td>...</td>\n",
              "      <td>...</td>\n",
              "      <td>...</td>\n",
              "      <td>...</td>\n",
              "      <td>...</td>\n",
              "    </tr>\n",
              "    <tr>\n",
              "      <th>4995</th>\n",
              "      <td>4996</td>\n",
              "      <td>1.0</td>\n",
              "      <td>0.0</td>\n",
              "      <td>NaN</td>\n",
              "      <td>NaN</td>\n",
              "      <td>0.0</td>\n",
              "      <td>0.0</td>\n",
              "      <td>0.0</td>\n",
              "      <td>1.0</td>\n",
              "      <td>137</td>\n",
              "      <td>NaN</td>\n",
              "      <td>NaN</td>\n",
              "      <td>1</td>\n",
              "    </tr>\n",
              "    <tr>\n",
              "      <th>4996</th>\n",
              "      <td>4997</td>\n",
              "      <td>11.0</td>\n",
              "      <td>11.0</td>\n",
              "      <td>4.0</td>\n",
              "      <td>3.0</td>\n",
              "      <td>0.0</td>\n",
              "      <td>0.0</td>\n",
              "      <td>2.0</td>\n",
              "      <td>213.0</td>\n",
              "      <td>150</td>\n",
              "      <td>3.0</td>\n",
              "      <td>3.0</td>\n",
              "      <td>0</td>\n",
              "    </tr>\n",
              "    <tr>\n",
              "      <th>4997</th>\n",
              "      <td>4998</td>\n",
              "      <td>2.0</td>\n",
              "      <td>9.0</td>\n",
              "      <td>1.0</td>\n",
              "      <td>1.0</td>\n",
              "      <td>0.0</td>\n",
              "      <td>0.0</td>\n",
              "      <td>0.0</td>\n",
              "      <td>188.0</td>\n",
              "      <td>134</td>\n",
              "      <td>1.0</td>\n",
              "      <td>1.0</td>\n",
              "      <td>0</td>\n",
              "    </tr>\n",
              "    <tr>\n",
              "      <th>4998</th>\n",
              "      <td>4999</td>\n",
              "      <td>15.0</td>\n",
              "      <td>17.0</td>\n",
              "      <td>0.0</td>\n",
              "      <td>NaN</td>\n",
              "      <td>3.0</td>\n",
              "      <td>0.0</td>\n",
              "      <td>3.0</td>\n",
              "      <td>2.0</td>\n",
              "      <td>115</td>\n",
              "      <td>3.0</td>\n",
              "      <td>2.0</td>\n",
              "      <td>0</td>\n",
              "    </tr>\n",
              "    <tr>\n",
              "      <th>4999</th>\n",
              "      <td>5000</td>\n",
              "      <td>1.0</td>\n",
              "      <td>4.0</td>\n",
              "      <td>NaN</td>\n",
              "      <td>NaN</td>\n",
              "      <td>0.0</td>\n",
              "      <td>0.0</td>\n",
              "      <td>0.0</td>\n",
              "      <td>0.0</td>\n",
              "      <td>156</td>\n",
              "      <td>NaN</td>\n",
              "      <td>NaN</td>\n",
              "      <td>1</td>\n",
              "    </tr>\n",
              "  </tbody>\n",
              "</table>\n",
              "<p>5000 rows × 13 columns</p>\n",
              "</div>"
            ],
            "text/plain": [
              "      SUBSCRIBER_ID  BNUM_OUT  BNUM_IN  ...  TOPUP_AMT  TOPUP_CNT  CHURN\n",
              "0                 1       2.0      3.0  ...        NaN        NaN      1\n",
              "1                 2      52.0     32.0  ...        2.0        3.0      0\n",
              "2                 3       NaN      NaN  ...        NaN        0.0      0\n",
              "3                 4       4.0      5.0  ...        4.0        2.0      1\n",
              "4                 5       0.0     14.0  ...        6.0        2.0      0\n",
              "...             ...       ...      ...  ...        ...        ...    ...\n",
              "4995           4996       1.0      0.0  ...        NaN        NaN      1\n",
              "4996           4997      11.0     11.0  ...        3.0        3.0      0\n",
              "4997           4998       2.0      9.0  ...        1.0        1.0      0\n",
              "4998           4999      15.0     17.0  ...        3.0        2.0      0\n",
              "4999           5000       1.0      4.0  ...        NaN        NaN      1\n",
              "\n",
              "[5000 rows x 13 columns]"
            ]
          },
          "metadata": {},
          "execution_count": 7
        }
      ]
    },
    {
      "cell_type": "code",
      "metadata": {
        "id": "_Ss1Ky0r6yEy"
      },
      "source": [
        ""
      ],
      "execution_count": null,
      "outputs": []
    },
    {
      "cell_type": "code",
      "metadata": {
        "id": "QJPxCNbd9nx9"
      },
      "source": [
        ""
      ],
      "execution_count": null,
      "outputs": []
    },
    {
      "cell_type": "markdown",
      "metadata": {
        "id": "7C_TXOxI9PM3"
      },
      "source": [
        "## Missing Values"
      ]
    },
    {
      "cell_type": "code",
      "metadata": {
        "id": "jtwNgvna76Gg"
      },
      "source": [
        "# Columss replaced with mean [BNUM_OUT, BNUM_IN, REV_OUT]\n",
        "# Columns replaced with -1 [PROD_CNT_MACRO,\tREV_BUN_MAC, USAGE_OUT_INT_DUR,\tUSAGE_OUT_OFFNET_DUR,\tUSAGE_OUT_ONNET_DUR, TOPUP_AMT,\tTOPUP_CNT]"
      ],
      "execution_count": null,
      "outputs": []
    },
    {
      "cell_type": "code",
      "metadata": {
        "id": "m8bpQ1Tl_L9H"
      },
      "source": [
        ""
      ],
      "execution_count": null,
      "outputs": []
    },
    {
      "cell_type": "code",
      "metadata": {
        "id": "szJ3w130_dm1"
      },
      "source": [
        "# stratified data split\n",
        "\n",
        "from sklearn.model_selection import train_test_split\n",
        "\n",
        "X = df.drop('CHURN',axis=1)\n",
        "y = df['CHURN']\n",
        "\n",
        "X_train, X_test, y_train, y_test = train_test_split(X, y, test_size=0.2, stratify=y, random_state=123)\n"
      ],
      "execution_count": null,
      "outputs": []
    },
    {
      "cell_type": "code",
      "metadata": {
        "colab": {
          "base_uri": "https://localhost:8080/"
        },
        "id": "pw7hJAaR_hbZ",
        "outputId": "7f4612ba-3a1d-4777-fbfb-94412c34e116"
      },
      "source": [
        "X_train.shape, X_test.shape, y_train.shape, y_test.shape"
      ],
      "execution_count": null,
      "outputs": [
        {
          "output_type": "execute_result",
          "data": {
            "text/plain": [
              "((4000, 12), (1000, 12), (4000,), (1000,))"
            ]
          },
          "metadata": {},
          "execution_count": 17
        }
      ]
    },
    {
      "cell_type": "code",
      "metadata": {
        "id": "2dRDTKRzES0E"
      },
      "source": [
        "df.to_csv('Telenor-Clean-Data-Churn.csv', index=False)\n"
      ],
      "execution_count": null,
      "outputs": []
    }
  ]
}